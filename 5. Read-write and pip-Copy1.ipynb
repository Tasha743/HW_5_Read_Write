{
 "cells": [
  {
   "cell_type": "markdown",
   "metadata": {},
   "source": [
    "# Домашнее задание\n",
    "1. Переведите содержимое файла purchase_log.txt в словарь purchases вида:\n",
    "```python\n",
    "{'1840e0b9d4': 'Продукты', ...}\n",
    "```\n",
    "\n",
    "2. Для каждого user_id в файле visit_log.csv добавьте третий столбец с категорией покупки (если покупка была).\n",
    "\n",
    "3. Запишите в файл funnel.csv визиты из файла visit_log.csv, в которых были покупки с указанием категории.\n",
    "\n",
    "Учтите условия на данные:\n",
    "- содержимое purchase_log.txt помещается в оперативную память компьютера\n",
    "- содержимое visit_log.csv - нет; используйте только построчную обработку этого файла"
   ]
  },
  {
   "cell_type": "code",
   "execution_count": 1,
   "metadata": {},
   "outputs": [],
   "source": [
    "import json"
   ]
  },
  {
   "cell_type": "code",
   "execution_count": 2,
   "metadata": {},
   "outputs": [],
   "source": [
    "with open('purchase_log.txt', 'r', encoding='utf-8') as f:\n",
    "   #print([next(f) for x in range(10)])\n",
    "    f.readline()\n",
    "    purchases={}\n",
    "    for elements in f:\n",
    "        list_of_log = list(json.loads(elements).values())\n",
    "        #print (list_of_log) \n",
    "        key_list=list_of_log[0]\n",
    "        value_list=list_of_log[1]\n",
    "        purchases[key_list]=value_list\n",
    "        for key in key_list: #для ключей из списка ключей\n",
    "            if key in purchases:#если ключ уже есть в словаре\n",
    "                purchases[key].append(value_list) #добавь все значения, которые есть для этого ключа\n",
    "f.close()\n",
    "#purchases\n"
   ]
  },
  {
   "cell_type": "markdown",
   "metadata": {},
   "source": [
    "Для каждого user_id в файле visit_log.csv добавьте третий столбец с категорией покупки (если покупка была).\n",
    "Запишите в файл funnel.csv визиты из файла visit_log.csv, в которых были покупки с указанием категории.\n",
    "Учтите условия на данные:\n",
    "содержимое purchase_log.txt помещается в оперативную память компьютера\n",
    "содержимое visit_log.csv - нет; используйте только построчную обработку этого файла"
   ]
  },
  {
   "cell_type": "code",
   "execution_count": 46,
   "metadata": {},
   "outputs": [],
   "source": [
    "with open('visit_log.csv', 'r', encoding='utf-8') as f1, \\\n",
    "        open('funnel.csv', 'w', encoding='utf-8') as f2: \n",
    "        #print([next(f1) for x in range(10)])\n",
    "        \n",
    "        f1.readline() \n",
    "        \n",
    "        for element in f1: \n",
    "             el_visit=element.strip().split(',')\n",
    "        if el_visit[0] in key_list:\n",
    "            #el_visit.append(value_list)\n",
    "            f2.write(' '.join(el_visit.append(value_list)))                \n",
    "        \n",
    "\n",
    "f2.close()\n",
    "f1.close()"
   ]
  },
  {
   "cell_type": "code",
   "execution_count": null,
   "metadata": {},
   "outputs": [],
   "source": []
  }
 ],
 "metadata": {
  "kernelspec": {
   "display_name": "Python 3",
   "language": "python",
   "name": "python3"
  },
  "language_info": {
   "codemirror_mode": {
    "name": "ipython",
    "version": 3
   },
   "file_extension": ".py",
   "mimetype": "text/x-python",
   "name": "python",
   "nbconvert_exporter": "python",
   "pygments_lexer": "ipython3",
   "version": "3.7.4"
  }
 },
 "nbformat": 4,
 "nbformat_minor": 2
}
